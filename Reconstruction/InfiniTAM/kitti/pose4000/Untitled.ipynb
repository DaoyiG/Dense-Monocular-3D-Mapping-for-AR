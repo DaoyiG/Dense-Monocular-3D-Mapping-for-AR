{
 "cells": [
  {
   "cell_type": "code",
   "execution_count": 2,
   "metadata": {},
   "outputs": [],
   "source": [
    "f = open(\"pose4000.txt\")\n",
    "lines = f.readlines()\n",
    "\n",
    "for i, line in enumerate(lines):\n",
    "\n",
    "    if i < 10:\n",
    "        name = '000' + str(i)\n",
    "    elif i < 100:\n",
    "        name = '00' + str(i)\n",
    "    elif i < 1000:\n",
    "        name = '0' + str(i)\n",
    "    else:\n",
    "        name = str(i)\n",
    "    pose = open(name + '.txt','a')\n",
    "    pose.write(line)\n"
   ]
  }
 ],
 "metadata": {
  "kernelspec": {
   "display_name": "Python 3",
   "language": "python",
   "name": "python3"
  },
  "language_info": {
   "codemirror_mode": {
    "name": "ipython",
    "version": 3
   },
   "file_extension": ".py",
   "mimetype": "text/x-python",
   "name": "python",
   "nbconvert_exporter": "python",
   "pygments_lexer": "ipython3",
   "version": "3.6.6"
  }
 },
 "nbformat": 4,
 "nbformat_minor": 4
}
